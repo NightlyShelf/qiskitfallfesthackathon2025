{
 "cells": [
  {
   "cell_type": "code",
   "execution_count": 68,
   "id": "8b939049",
   "metadata": {},
   "outputs": [],
   "source": [
    "import numpy as np\n",
    "from sklearn.preprocessing import MinMaxScaler\n",
    "\n",
    "max_size = 1000\n",
    "\n",
    "# get the dataset\n",
    "data = open( \"blackjack2-2.data\").readlines()\n",
    "tags = open( \"blackjack2-2.tags\").readlines()\n",
    "data_clean = []\n",
    "tags_clean = []\n",
    "#strip whitespace\n",
    "first = True\n",
    "i = 0\n",
    "for datum in data:\n",
    "\ti += 1\n",
    "\tif i >= max_size:\n",
    "\t\tbreak\n",
    "\n",
    "\t# skip empty line first\n",
    "\tif first:\n",
    "\t\tfirst = False\n",
    "\t\tcontinue\n",
    "\tclean_datum = datum[:datum.index('\\n')].strip()\n",
    "\tclean_datum = clean_datum[1:-1].split(',')\n",
    "\tclean_datum[0] = int( clean_datum[0] )\n",
    "\tclean_datum[1] = int( clean_datum[1][1:] )\n",
    "\t# print( clean_datum )\n",
    "\tdata_clean = data_clean + [ clean_datum ]\n",
    "\n",
    "first = True\n",
    "i=0\n",
    "for tag in tags:\n",
    "\ti += 1\n",
    "\tif i >= max_size:\n",
    "\t\tbreak\n",
    "\tif first:\n",
    "\t\tfirst = False\n",
    "\t\tcontinue\n",
    "\ttag = tag[:tag.index('\\n')]\n",
    "\n",
    "\tif tag == \"h\":\n",
    "\t\ttags_clean = tags_clean + [ 1.0 ]\n",
    "\telse:\n",
    "\t\ttags_clean = tags_clean + [ 0.0 ]\n",
    "\n",
    "scaler = MinMaxScaler()\n",
    "data_clean = scaler.fit_transform(data_clean)\n",
    "\n",
    "\n",
    "size = int( (0.80) * max_size )\n",
    "\n",
    "train_data = np.array( data_clean[1:size] )\n",
    "train_tags = np.array( tags_clean[1:size] )\n",
    "test_data = np.array( data_clean[size:] )\n",
    "test_tags = np.array( tags_clean[size:] )"
   ]
  },
  {
   "cell_type": "code",
   "execution_count": 69,
   "id": "deec43ff",
   "metadata": {},
   "outputs": [
    {
     "name": "stderr",
     "output_type": "stream",
     "text": [
      "/var/folders/q9/qd1csgkx47vdf02qrmzh6nbm0000gn/T/ipykernel_68374/2799304377.py:12: DeprecationWarning: The class ``qiskit.primitives.sampler.Sampler`` is deprecated as of qiskit 1.2. It will be removed no earlier than 3 months after the release date. All implementations of the `BaseSamplerV1` interface have been deprecated in favor of their V2 counterparts. The V2 alternative for the `Sampler` class is `StatevectorSampler`.\n",
      "  sampler = Sampler()\n"
     ]
    }
   ],
   "source": [
    "from qiskit.circuit.library import ZZFeatureMap, RealAmplitudes\n",
    "from qiskit_algorithms.optimizers import COBYLA\n",
    "from qiskit.primitives import Sampler\n",
    "from qiskit_machine_learning.algorithms.classifiers import VQC\n",
    "\n",
    "\n",
    "\n",
    "\n",
    "feature_map = ZZFeatureMap(feature_dimension=2, reps=1)\n",
    "ansatz = RealAmplitudes(num_qubits=2, reps=3)\n",
    "optimizer = COBYLA(maxiter=100)\n",
    "sampler = Sampler()\n",
    "\n",
    "vqc = VQC(\n",
    "    sampler=sampler,\n",
    "    feature_map=feature_map,\n",
    "    ansatz=ansatz,\n",
    "    optimizer=optimizer\n",
    ")"
   ]
  },
  {
   "cell_type": "code",
   "execution_count": 70,
   "id": "46e6ddb2",
   "metadata": {},
   "outputs": [
    {
     "name": "stdout",
     "output_type": "stream",
     "text": [
      "Training the VQC...\n",
      "Training complete.\n"
     ]
    }
   ],
   "source": [
    "print(\"Training the VQC...\")\n",
    "vqc.fit(train_data, train_tags)\n",
    "print(\"Training complete.\")"
   ]
  },
  {
   "cell_type": "code",
   "execution_count": 71,
   "id": "cd7fd618",
   "metadata": {},
   "outputs": [
    {
     "name": "stdout",
     "output_type": "stream",
     "text": [
      "Model Accuracy on Test Data: 61.62%\n"
     ]
    }
   ],
   "source": [
    "score = vqc.score(test_data, test_tags)\n",
    "print(f\"Model Accuracy on Test Data: {score * 100:.2f}%\")"
   ]
  },
  {
   "cell_type": "code",
   "execution_count": 72,
   "id": "cbe59098",
   "metadata": {},
   "outputs": [
    {
     "name": "stdout",
     "output_type": "stream",
     "text": [
      "Player: 16, Dealer: 10\n",
      "Quantum Decision: Stay\n"
     ]
    }
   ],
   "source": [
    "player_hand = 16\n",
    "dealer_card = 10\n",
    "\n",
    "new_data_point = scaler.transform([[player_hand, dealer_card]])\n",
    "prediction = vqc.predict(new_data_point)\n",
    "decision = \"Hit\" if prediction == 1 else \"Stay\"\n",
    "\n",
    "print(f\"Player: {player_hand}, Dealer: {dealer_card}\")\n",
    "print(f\"Quantum Decision: {decision}\")"
   ]
  },
  {
   "cell_type": "code",
   "execution_count": null,
   "id": "95bce422",
   "metadata": {},
   "outputs": [],
   "source": []
  }
 ],
 "metadata": {
  "kernelspec": {
   "display_name": "venv11 (3.11.13)",
   "language": "python",
   "name": "python3"
  },
  "language_info": {
   "codemirror_mode": {
    "name": "ipython",
    "version": 3
   },
   "file_extension": ".py",
   "mimetype": "text/x-python",
   "name": "python",
   "nbconvert_exporter": "python",
   "pygments_lexer": "ipython3",
   "version": "3.11.13"
  }
 },
 "nbformat": 4,
 "nbformat_minor": 5
}
